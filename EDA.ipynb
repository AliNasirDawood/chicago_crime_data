{
 "cells": [
  {
   "cell_type": "code",
   "execution_count": 25,
   "metadata": {
    "tags": []
   },
   "outputs": [],
   "source": [
    "import pandas as pd"
   ]
  },
  {
   "cell_type": "code",
   "execution_count": 26,
   "metadata": {
    "tags": []
   },
   "outputs": [],
   "source": [
    "raw_data = pd.read_csv('Dataset.csv')"
   ]
  },
  {
   "cell_type": "code",
   "execution_count": 28,
   "metadata": {
    "tags": []
   },
   "outputs": [
    {
     "data": {
      "text/html": [
       "<div>\n",
       "<style scoped>\n",
       "    .dataframe tbody tr th:only-of-type {\n",
       "        vertical-align: middle;\n",
       "    }\n",
       "\n",
       "    .dataframe tbody tr th {\n",
       "        vertical-align: top;\n",
       "    }\n",
       "\n",
       "    .dataframe thead th {\n",
       "        text-align: right;\n",
       "    }\n",
       "</style>\n",
       "<table border=\"1\" class=\"dataframe\">\n",
       "  <thead>\n",
       "    <tr style=\"text-align: right;\">\n",
       "      <th></th>\n",
       "      <th>unique_key</th>\n",
       "      <th>case_number</th>\n",
       "      <th>date</th>\n",
       "      <th>block</th>\n",
       "      <th>iucr</th>\n",
       "      <th>primary_type</th>\n",
       "      <th>description</th>\n",
       "      <th>location_description</th>\n",
       "      <th>arrest</th>\n",
       "      <th>domestic</th>\n",
       "      <th>...</th>\n",
       "      <th>ward</th>\n",
       "      <th>community_area</th>\n",
       "      <th>fbi_code</th>\n",
       "      <th>x_coordinate</th>\n",
       "      <th>y_coordinate</th>\n",
       "      <th>year</th>\n",
       "      <th>updated_on</th>\n",
       "      <th>latitude</th>\n",
       "      <th>longitude</th>\n",
       "      <th>location</th>\n",
       "    </tr>\n",
       "  </thead>\n",
       "  <tbody>\n",
       "    <tr>\n",
       "      <th>0</th>\n",
       "      <td>11814183</td>\n",
       "      <td>JC416371</td>\n",
       "      <td>2019-09-01 09:00:00+00:00</td>\n",
       "      <td>038XX S ELLIS AVE</td>\n",
       "      <td>0930</td>\n",
       "      <td>MOTOR VEHICLE THEFT</td>\n",
       "      <td>THEFT/RECOVERY: AUTOMOBILE</td>\n",
       "      <td>PARKING LOT/GARAGE(NON.RESID.)</td>\n",
       "      <td>False</td>\n",
       "      <td>False</td>\n",
       "      <td>...</td>\n",
       "      <td>4.0</td>\n",
       "      <td>36</td>\n",
       "      <td>07</td>\n",
       "      <td>1182584.0</td>\n",
       "      <td>1879629.0</td>\n",
       "      <td>2019</td>\n",
       "      <td>2019-09-08 16:07:45+00:00</td>\n",
       "      <td>41.824914</td>\n",
       "      <td>-87.605655</td>\n",
       "      <td>(41.824914418, -87.605655435)</td>\n",
       "    </tr>\n",
       "    <tr>\n",
       "      <th>1</th>\n",
       "      <td>11770356</td>\n",
       "      <td>JC363819</td>\n",
       "      <td>2019-07-25 09:52:00+00:00</td>\n",
       "      <td>049XX N MILWAUKEE AVE</td>\n",
       "      <td>1120</td>\n",
       "      <td>DECEPTIVE PRACTICE</td>\n",
       "      <td>FORGERY</td>\n",
       "      <td>STREET</td>\n",
       "      <td>True</td>\n",
       "      <td>False</td>\n",
       "      <td>...</td>\n",
       "      <td>45.0</td>\n",
       "      <td>11</td>\n",
       "      <td>10</td>\n",
       "      <td>1139437.0</td>\n",
       "      <td>1932199.0</td>\n",
       "      <td>2019</td>\n",
       "      <td>2019-10-14 16:04:15+00:00</td>\n",
       "      <td>41.970067</td>\n",
       "      <td>-87.762668</td>\n",
       "      <td>(41.970066618, -87.762668225)</td>\n",
       "    </tr>\n",
       "    <tr>\n",
       "      <th>2</th>\n",
       "      <td>11757015</td>\n",
       "      <td>JC347959</td>\n",
       "      <td>2019-07-14 02:44:00+00:00</td>\n",
       "      <td>105XX S AVENUE M</td>\n",
       "      <td>0498</td>\n",
       "      <td>BATTERY</td>\n",
       "      <td>AGGRAVATED DOMESTIC BATTERY: HANDS/FIST/FEET S...</td>\n",
       "      <td>APARTMENT</td>\n",
       "      <td>False</td>\n",
       "      <td>True</td>\n",
       "      <td>...</td>\n",
       "      <td>10.0</td>\n",
       "      <td>52</td>\n",
       "      <td>04B</td>\n",
       "      <td>1201513.0</td>\n",
       "      <td>1835666.0</td>\n",
       "      <td>2019</td>\n",
       "      <td>2019-07-21 16:11:41+00:00</td>\n",
       "      <td>41.703817</td>\n",
       "      <td>-87.537704</td>\n",
       "      <td>(41.703816562, -87.537703874)</td>\n",
       "    </tr>\n",
       "    <tr>\n",
       "      <th>3</th>\n",
       "      <td>11729739</td>\n",
       "      <td>JC314541</td>\n",
       "      <td>2019-06-18 23:00:00+00:00</td>\n",
       "      <td>079XX S WOODLAWN AVE</td>\n",
       "      <td>0330</td>\n",
       "      <td>ROBBERY</td>\n",
       "      <td>AGGRAVATED</td>\n",
       "      <td>ALLEY</td>\n",
       "      <td>False</td>\n",
       "      <td>False</td>\n",
       "      <td>...</td>\n",
       "      <td>8.0</td>\n",
       "      <td>45</td>\n",
       "      <td>03</td>\n",
       "      <td>1185587.0</td>\n",
       "      <td>1852779.0</td>\n",
       "      <td>2019</td>\n",
       "      <td>2019-06-30 15:56:27+00:00</td>\n",
       "      <td>41.751166</td>\n",
       "      <td>-87.595484</td>\n",
       "      <td>(41.751165501, -87.595483806)</td>\n",
       "    </tr>\n",
       "    <tr>\n",
       "      <th>4</th>\n",
       "      <td>11713163</td>\n",
       "      <td>JC294692</td>\n",
       "      <td>2019-06-06 12:40:00+00:00</td>\n",
       "      <td>094XX S CRANDON AVE</td>\n",
       "      <td>2021</td>\n",
       "      <td>NARCOTICS</td>\n",
       "      <td>POSS: BARBITUATES</td>\n",
       "      <td>STREET</td>\n",
       "      <td>True</td>\n",
       "      <td>False</td>\n",
       "      <td>...</td>\n",
       "      <td>7.0</td>\n",
       "      <td>48</td>\n",
       "      <td>18</td>\n",
       "      <td>1193150.0</td>\n",
       "      <td>1843016.0</td>\n",
       "      <td>2019</td>\n",
       "      <td>2019-06-30 15:56:27+00:00</td>\n",
       "      <td>41.724194</td>\n",
       "      <td>-87.568088</td>\n",
       "      <td>(41.724193641, -87.568087767)</td>\n",
       "    </tr>\n",
       "  </tbody>\n",
       "</table>\n",
       "<p>5 rows × 22 columns</p>\n",
       "</div>"
      ],
      "text/plain": [
       "   unique_key case_number                       date                  block  \\\n",
       "0    11814183    JC416371  2019-09-01 09:00:00+00:00      038XX S ELLIS AVE   \n",
       "1    11770356    JC363819  2019-07-25 09:52:00+00:00  049XX N MILWAUKEE AVE   \n",
       "2    11757015    JC347959  2019-07-14 02:44:00+00:00       105XX S AVENUE M   \n",
       "3    11729739    JC314541  2019-06-18 23:00:00+00:00   079XX S WOODLAWN AVE   \n",
       "4    11713163    JC294692  2019-06-06 12:40:00+00:00    094XX S CRANDON AVE   \n",
       "\n",
       "   iucr         primary_type  \\\n",
       "0  0930  MOTOR VEHICLE THEFT   \n",
       "1  1120   DECEPTIVE PRACTICE   \n",
       "2  0498              BATTERY   \n",
       "3  0330              ROBBERY   \n",
       "4  2021            NARCOTICS   \n",
       "\n",
       "                                         description  \\\n",
       "0                         THEFT/RECOVERY: AUTOMOBILE   \n",
       "1                                            FORGERY   \n",
       "2  AGGRAVATED DOMESTIC BATTERY: HANDS/FIST/FEET S...   \n",
       "3                                         AGGRAVATED   \n",
       "4                                  POSS: BARBITUATES   \n",
       "\n",
       "             location_description  arrest  domestic  ...  ward  \\\n",
       "0  PARKING LOT/GARAGE(NON.RESID.)   False     False  ...   4.0   \n",
       "1                          STREET    True     False  ...  45.0   \n",
       "2                       APARTMENT   False      True  ...  10.0   \n",
       "3                           ALLEY   False     False  ...   8.0   \n",
       "4                          STREET    True     False  ...   7.0   \n",
       "\n",
       "   community_area  fbi_code  x_coordinate y_coordinate  year  \\\n",
       "0              36        07     1182584.0    1879629.0  2019   \n",
       "1              11        10     1139437.0    1932199.0  2019   \n",
       "2              52       04B     1201513.0    1835666.0  2019   \n",
       "3              45        03     1185587.0    1852779.0  2019   \n",
       "4              48        18     1193150.0    1843016.0  2019   \n",
       "\n",
       "                  updated_on   latitude  longitude  \\\n",
       "0  2019-09-08 16:07:45+00:00  41.824914 -87.605655   \n",
       "1  2019-10-14 16:04:15+00:00  41.970067 -87.762668   \n",
       "2  2019-07-21 16:11:41+00:00  41.703817 -87.537704   \n",
       "3  2019-06-30 15:56:27+00:00  41.751166 -87.595484   \n",
       "4  2019-06-30 15:56:27+00:00  41.724194 -87.568088   \n",
       "\n",
       "                        location  \n",
       "0  (41.824914418, -87.605655435)  \n",
       "1  (41.970066618, -87.762668225)  \n",
       "2  (41.703816562, -87.537703874)  \n",
       "3  (41.751165501, -87.595483806)  \n",
       "4  (41.724193641, -87.568087767)  \n",
       "\n",
       "[5 rows x 22 columns]"
      ]
     },
     "execution_count": 28,
     "metadata": {},
     "output_type": "execute_result"
    }
   ],
   "source": [
    "raw_data.head(5)"
   ]
  },
  {
   "cell_type": "code",
   "execution_count": 29,
   "metadata": {
    "tags": []
   },
   "outputs": [
    {
     "name": "stdout",
     "output_type": "stream",
     "text": [
      "['unique_key', 'case_number', 'date', 'block', 'iucr', 'primary_type', 'description', 'location_description', 'arrest', 'domestic', 'beat', 'district', 'ward', 'community_area', 'fbi_code', 'x_coordinate', 'y_coordinate', 'year', 'updated_on', 'latitude', 'longitude', 'location']\n"
     ]
    }
   ],
   "source": [
    "columns = raw_data.columns.tolist()\n",
    "print(columns)"
   ]
  },
  {
   "cell_type": "code",
   "execution_count": 30,
   "metadata": {
    "tags": []
   },
   "outputs": [
    {
     "data": {
      "text/html": [
       "<div>\n",
       "<style scoped>\n",
       "    .dataframe tbody tr th:only-of-type {\n",
       "        vertical-align: middle;\n",
       "    }\n",
       "\n",
       "    .dataframe tbody tr th {\n",
       "        vertical-align: top;\n",
       "    }\n",
       "\n",
       "    .dataframe thead th {\n",
       "        text-align: right;\n",
       "    }\n",
       "</style>\n",
       "<table border=\"1\" class=\"dataframe\">\n",
       "  <thead>\n",
       "    <tr style=\"text-align: right;\">\n",
       "      <th></th>\n",
       "      <th>unique_key</th>\n",
       "      <th>beat</th>\n",
       "      <th>district</th>\n",
       "      <th>ward</th>\n",
       "      <th>community_area</th>\n",
       "      <th>x_coordinate</th>\n",
       "      <th>y_coordinate</th>\n",
       "      <th>year</th>\n",
       "      <th>latitude</th>\n",
       "      <th>longitude</th>\n",
       "    </tr>\n",
       "  </thead>\n",
       "  <tbody>\n",
       "    <tr>\n",
       "      <th>count</th>\n",
       "      <td>3.000000e+04</td>\n",
       "      <td>30000.000000</td>\n",
       "      <td>30000.000000</td>\n",
       "      <td>29999.000000</td>\n",
       "      <td>30000.000000</td>\n",
       "      <td>2.949400e+04</td>\n",
       "      <td>2.949400e+04</td>\n",
       "      <td>30000.000000</td>\n",
       "      <td>29494.000000</td>\n",
       "      <td>29494.000000</td>\n",
       "    </tr>\n",
       "    <tr>\n",
       "      <th>mean</th>\n",
       "      <td>7.101561e+06</td>\n",
       "      <td>1006.345600</td>\n",
       "      <td>9.426867</td>\n",
       "      <td>17.495517</td>\n",
       "      <td>44.357533</td>\n",
       "      <td>1.167592e+06</td>\n",
       "      <td>1.868557e+06</td>\n",
       "      <td>2009.809200</td>\n",
       "      <td>41.794834</td>\n",
       "      <td>-87.661061</td>\n",
       "    </tr>\n",
       "    <tr>\n",
       "      <th>std</th>\n",
       "      <td>2.962270e+06</td>\n",
       "      <td>648.737593</td>\n",
       "      <td>6.281632</td>\n",
       "      <td>13.211404</td>\n",
       "      <td>18.816589</td>\n",
       "      <td>2.373540e+04</td>\n",
       "      <td>3.957639e+04</td>\n",
       "      <td>5.038006</td>\n",
       "      <td>0.109021</td>\n",
       "      <td>0.085880</td>\n",
       "    </tr>\n",
       "    <tr>\n",
       "      <th>min</th>\n",
       "      <td>6.900000e+02</td>\n",
       "      <td>131.000000</td>\n",
       "      <td>1.000000</td>\n",
       "      <td>3.000000</td>\n",
       "      <td>0.000000</td>\n",
       "      <td>0.000000e+00</td>\n",
       "      <td>0.000000e+00</td>\n",
       "      <td>2001.000000</td>\n",
       "      <td>36.619446</td>\n",
       "      <td>-91.686566</td>\n",
       "    </tr>\n",
       "    <tr>\n",
       "      <th>25%</th>\n",
       "      <td>4.521324e+06</td>\n",
       "      <td>433.000000</td>\n",
       "      <td>4.000000</td>\n",
       "      <td>8.000000</td>\n",
       "      <td>34.000000</td>\n",
       "      <td>1.149427e+06</td>\n",
       "      <td>1.838758e+06</td>\n",
       "      <td>2005.000000</td>\n",
       "      <td>41.712860</td>\n",
       "      <td>-87.727183</td>\n",
       "    </tr>\n",
       "    <tr>\n",
       "      <th>50%</th>\n",
       "      <td>7.212875e+06</td>\n",
       "      <td>815.000000</td>\n",
       "      <td>8.000000</td>\n",
       "      <td>11.000000</td>\n",
       "      <td>50.000000</td>\n",
       "      <td>1.174886e+06</td>\n",
       "      <td>1.862644e+06</td>\n",
       "      <td>2009.000000</td>\n",
       "      <td>41.779239</td>\n",
       "      <td>-87.633948</td>\n",
       "    </tr>\n",
       "    <tr>\n",
       "      <th>75%</th>\n",
       "      <td>9.758444e+06</td>\n",
       "      <td>1613.000000</td>\n",
       "      <td>16.000000</td>\n",
       "      <td>23.000000</td>\n",
       "      <td>57.000000</td>\n",
       "      <td>1.185782e+06</td>\n",
       "      <td>1.882132e+06</td>\n",
       "      <td>2014.000000</td>\n",
       "      <td>41.832205</td>\n",
       "      <td>-87.595355</td>\n",
       "    </tr>\n",
       "    <tr>\n",
       "      <th>max</th>\n",
       "      <td>1.186182e+07</td>\n",
       "      <td>2512.000000</td>\n",
       "      <td>31.000000</td>\n",
       "      <td>50.000000</td>\n",
       "      <td>74.000000</td>\n",
       "      <td>1.205119e+06</td>\n",
       "      <td>1.949924e+06</td>\n",
       "      <td>2019.000000</td>\n",
       "      <td>42.018925</td>\n",
       "      <td>-87.524529</td>\n",
       "    </tr>\n",
       "  </tbody>\n",
       "</table>\n",
       "</div>"
      ],
      "text/plain": [
       "         unique_key          beat      district          ward  community_area  \\\n",
       "count  3.000000e+04  30000.000000  30000.000000  29999.000000    30000.000000   \n",
       "mean   7.101561e+06   1006.345600      9.426867     17.495517       44.357533   \n",
       "std    2.962270e+06    648.737593      6.281632     13.211404       18.816589   \n",
       "min    6.900000e+02    131.000000      1.000000      3.000000        0.000000   \n",
       "25%    4.521324e+06    433.000000      4.000000      8.000000       34.000000   \n",
       "50%    7.212875e+06    815.000000      8.000000     11.000000       50.000000   \n",
       "75%    9.758444e+06   1613.000000     16.000000     23.000000       57.000000   \n",
       "max    1.186182e+07   2512.000000     31.000000     50.000000       74.000000   \n",
       "\n",
       "       x_coordinate  y_coordinate          year      latitude     longitude  \n",
       "count  2.949400e+04  2.949400e+04  30000.000000  29494.000000  29494.000000  \n",
       "mean   1.167592e+06  1.868557e+06   2009.809200     41.794834    -87.661061  \n",
       "std    2.373540e+04  3.957639e+04      5.038006      0.109021      0.085880  \n",
       "min    0.000000e+00  0.000000e+00   2001.000000     36.619446    -91.686566  \n",
       "25%    1.149427e+06  1.838758e+06   2005.000000     41.712860    -87.727183  \n",
       "50%    1.174886e+06  1.862644e+06   2009.000000     41.779239    -87.633948  \n",
       "75%    1.185782e+06  1.882132e+06   2014.000000     41.832205    -87.595355  \n",
       "max    1.205119e+06  1.949924e+06   2019.000000     42.018925    -87.524529  "
      ]
     },
     "execution_count": 30,
     "metadata": {},
     "output_type": "execute_result"
    }
   ],
   "source": [
    "raw_data.describe()"
   ]
  },
  {
   "cell_type": "code",
   "execution_count": 31,
   "metadata": {
    "tags": []
   },
   "outputs": [
    {
     "data": {
      "text/plain": [
       "unique_key              30000\n",
       "case_number             30000\n",
       "date                    30000\n",
       "block                   30000\n",
       "iucr                    30000\n",
       "primary_type            30000\n",
       "description             30000\n",
       "location_description    29898\n",
       "arrest                  30000\n",
       "domestic                30000\n",
       "beat                    30000\n",
       "district                30000\n",
       "ward                    29999\n",
       "community_area          30000\n",
       "fbi_code                30000\n",
       "x_coordinate            29494\n",
       "y_coordinate            29494\n",
       "year                    30000\n",
       "updated_on              30000\n",
       "latitude                29494\n",
       "longitude               29494\n",
       "location                29494\n",
       "dtype: int64"
      ]
     },
     "execution_count": 31,
     "metadata": {},
     "output_type": "execute_result"
    }
   ],
   "source": [
    "raw_data.count()"
   ]
  },
  {
   "cell_type": "code",
   "execution_count": 39,
   "metadata": {
    "tags": []
   },
   "outputs": [],
   "source": [
    "# finding out all the columns that have NANs\n",
    "columnsNAN = raw_data.columns[raw_data.isna().any()].tolist()"
   ]
  },
  {
   "cell_type": "code",
   "execution_count": 40,
   "metadata": {
    "tags": []
   },
   "outputs": [
    {
     "name": "stdout",
     "output_type": "stream",
     "text": [
      "['location_description', 'ward', 'x_coordinate', 'y_coordinate', 'latitude', 'longitude', 'location']\n"
     ]
    }
   ],
   "source": [
    "print(columnsNAN)"
   ]
  },
  {
   "cell_type": "code",
   "execution_count": 41,
   "metadata": {
    "tags": []
   },
   "outputs": [
    {
     "name": "stdout",
     "output_type": "stream",
     "text": [
      "location_description    102\n",
      "ward                      1\n",
      "x_coordinate            506\n",
      "y_coordinate            506\n",
      "latitude                506\n",
      "longitude               506\n",
      "location                506\n",
      "dtype: int64\n"
     ]
    }
   ],
   "source": [
    "# number of NANs present in the columns that do have NANs\n",
    "print(raw_data[columnsNAN].isna().sum())"
   ]
  },
  {
   "cell_type": "code",
   "execution_count": 42,
   "metadata": {
    "tags": []
   },
   "outputs": [
    {
     "name": "stdout",
     "output_type": "stream",
     "text": [
      "location_description -> object\n",
      "ward -> float64\n",
      "x_coordinate -> float64\n",
      "y_coordinate -> float64\n",
      "latitude -> float64\n",
      "longitude -> float64\n",
      "location -> object\n"
     ]
    }
   ],
   "source": [
    "# finding which of the columns that have NANs are categorical and numerical respectively\n",
    "for column in columnsNAN:\n",
    "    print(column, '->', raw_data[column].dtype)"
   ]
  },
  {
   "cell_type": "code",
   "execution_count": 43,
   "metadata": {
    "tags": []
   },
   "outputs": [],
   "source": [
    "import numpy as np"
   ]
  },
  {
   "cell_type": "code",
   "execution_count": 55,
   "metadata": {
    "tags": []
   },
   "outputs": [],
   "source": [
    "# filing up missing values with NANs\n",
    "raw_data[columnsNAN == ''] = np.NaN"
   ]
  },
  {
   "cell_type": "markdown",
   "metadata": {},
   "source": [
    "All the NANs for categorical columns being replaced with its previous row values. \n",
    "All the NANs for numeric columns being replaced with the mean of that column."
   ]
  },
  {
   "cell_type": "code",
   "execution_count": 61,
   "metadata": {
    "tags": []
   },
   "outputs": [],
   "source": [
    "raw_data[['location','location_description']] = raw_data[['location','location_description']].fillna(method = 'ffill')"
   ]
  },
  {
   "cell_type": "code",
   "execution_count": 62,
   "metadata": {
    "tags": []
   },
   "outputs": [],
   "source": [
    "raw_data['latitude'] = raw_data['latitude'].fillna(raw_data['latitude'].mean())"
   ]
  },
  {
   "cell_type": "code",
   "execution_count": 63,
   "metadata": {
    "tags": []
   },
   "outputs": [],
   "source": [
    "raw_data['longitude'] = raw_data['longitude'].fillna(raw_data['longitude'].mean())"
   ]
  },
  {
   "cell_type": "code",
   "execution_count": 64,
   "metadata": {
    "tags": []
   },
   "outputs": [],
   "source": [
    "raw_data['x_coordinate'] = raw_data['x_coordinate'].fillna(raw_data['x_coordinate'].mean())"
   ]
  },
  {
   "cell_type": "code",
   "execution_count": 65,
   "metadata": {
    "tags": []
   },
   "outputs": [],
   "source": [
    "raw_data['y_coordinate'] = raw_data['y_coordinate'].fillna(raw_data['y_coordinate'].mean())"
   ]
  },
  {
   "cell_type": "code",
   "execution_count": 66,
   "metadata": {
    "tags": []
   },
   "outputs": [],
   "source": [
    "raw_data['ward'] = raw_data['ward'].fillna(raw_data['ward'].mean())"
   ]
  },
  {
   "cell_type": "code",
   "execution_count": 67,
   "metadata": {
    "tags": []
   },
   "outputs": [
    {
     "name": "stdout",
     "output_type": "stream",
     "text": [
      "location_description    0\n",
      "ward                    0\n",
      "x_coordinate            0\n",
      "y_coordinate            0\n",
      "latitude                0\n",
      "longitude               0\n",
      "location                0\n",
      "dtype: int64\n"
     ]
    }
   ],
   "source": [
    "# NANs have been filled\n",
    "print(raw_data[columnsNAN].isna().sum())"
   ]
  },
  {
   "cell_type": "code",
   "execution_count": 68,
   "metadata": {
    "tags": []
   },
   "outputs": [
    {
     "data": {
      "text/html": [
       "<div>\n",
       "<style scoped>\n",
       "    .dataframe tbody tr th:only-of-type {\n",
       "        vertical-align: middle;\n",
       "    }\n",
       "\n",
       "    .dataframe tbody tr th {\n",
       "        vertical-align: top;\n",
       "    }\n",
       "\n",
       "    .dataframe thead th {\n",
       "        text-align: right;\n",
       "    }\n",
       "</style>\n",
       "<table border=\"1\" class=\"dataframe\">\n",
       "  <thead>\n",
       "    <tr style=\"text-align: right;\">\n",
       "      <th></th>\n",
       "      <th>unique_key</th>\n",
       "      <th>case_number</th>\n",
       "      <th>date</th>\n",
       "      <th>block</th>\n",
       "      <th>iucr</th>\n",
       "      <th>primary_type</th>\n",
       "      <th>description</th>\n",
       "      <th>location_description</th>\n",
       "      <th>arrest</th>\n",
       "      <th>domestic</th>\n",
       "      <th>...</th>\n",
       "      <th>community_area</th>\n",
       "      <th>fbi_code</th>\n",
       "      <th>x_coordinate</th>\n",
       "      <th>y_coordinate</th>\n",
       "      <th>year</th>\n",
       "      <th>updated_on</th>\n",
       "      <th>latitude</th>\n",
       "      <th>longitude</th>\n",
       "      <th>location</th>\n",
       "      <th>False</th>\n",
       "    </tr>\n",
       "  </thead>\n",
       "  <tbody>\n",
       "    <tr>\n",
       "      <th>0</th>\n",
       "      <td>11814183</td>\n",
       "      <td>JC416371</td>\n",
       "      <td>2019-09-01 09:00:00+00:00</td>\n",
       "      <td>038XX S ELLIS AVE</td>\n",
       "      <td>0930</td>\n",
       "      <td>MOTOR VEHICLE THEFT</td>\n",
       "      <td>THEFT/RECOVERY: AUTOMOBILE</td>\n",
       "      <td>PARKING LOT/GARAGE(NON.RESID.)</td>\n",
       "      <td>False</td>\n",
       "      <td>False</td>\n",
       "      <td>...</td>\n",
       "      <td>36</td>\n",
       "      <td>07</td>\n",
       "      <td>1182584.0</td>\n",
       "      <td>1879629.0</td>\n",
       "      <td>2019</td>\n",
       "      <td>2019-09-08 16:07:45+00:00</td>\n",
       "      <td>41.824914</td>\n",
       "      <td>-87.605655</td>\n",
       "      <td>(41.824914418, -87.605655435)</td>\n",
       "      <td>NaN</td>\n",
       "    </tr>\n",
       "    <tr>\n",
       "      <th>1</th>\n",
       "      <td>11770356</td>\n",
       "      <td>JC363819</td>\n",
       "      <td>2019-07-25 09:52:00+00:00</td>\n",
       "      <td>049XX N MILWAUKEE AVE</td>\n",
       "      <td>1120</td>\n",
       "      <td>DECEPTIVE PRACTICE</td>\n",
       "      <td>FORGERY</td>\n",
       "      <td>STREET</td>\n",
       "      <td>True</td>\n",
       "      <td>False</td>\n",
       "      <td>...</td>\n",
       "      <td>11</td>\n",
       "      <td>10</td>\n",
       "      <td>1139437.0</td>\n",
       "      <td>1932199.0</td>\n",
       "      <td>2019</td>\n",
       "      <td>2019-10-14 16:04:15+00:00</td>\n",
       "      <td>41.970067</td>\n",
       "      <td>-87.762668</td>\n",
       "      <td>(41.970066618, -87.762668225)</td>\n",
       "      <td>NaN</td>\n",
       "    </tr>\n",
       "  </tbody>\n",
       "</table>\n",
       "<p>2 rows × 23 columns</p>\n",
       "</div>"
      ],
      "text/plain": [
       "   unique_key case_number                       date                  block  \\\n",
       "0    11814183    JC416371  2019-09-01 09:00:00+00:00      038XX S ELLIS AVE   \n",
       "1    11770356    JC363819  2019-07-25 09:52:00+00:00  049XX N MILWAUKEE AVE   \n",
       "\n",
       "   iucr         primary_type                 description  \\\n",
       "0  0930  MOTOR VEHICLE THEFT  THEFT/RECOVERY: AUTOMOBILE   \n",
       "1  1120   DECEPTIVE PRACTICE                     FORGERY   \n",
       "\n",
       "             location_description  arrest  domestic  ...  community_area  \\\n",
       "0  PARKING LOT/GARAGE(NON.RESID.)   False     False  ...              36   \n",
       "1                          STREET    True     False  ...              11   \n",
       "\n",
       "   fbi_code  x_coordinate  y_coordinate  year                 updated_on  \\\n",
       "0        07     1182584.0     1879629.0  2019  2019-09-08 16:07:45+00:00   \n",
       "1        10     1139437.0     1932199.0  2019  2019-10-14 16:04:15+00:00   \n",
       "\n",
       "    latitude  longitude                       location  False  \n",
       "0  41.824914 -87.605655  (41.824914418, -87.605655435)    NaN  \n",
       "1  41.970067 -87.762668  (41.970066618, -87.762668225)    NaN  \n",
       "\n",
       "[2 rows x 23 columns]"
      ]
     },
     "execution_count": 68,
     "metadata": {},
     "output_type": "execute_result"
    }
   ],
   "source": [
    "raw_data.head(2)"
   ]
  },
  {
   "cell_type": "code",
   "execution_count": 69,
   "metadata": {
    "tags": []
   },
   "outputs": [],
   "source": [
    "# dropping a column that was created unnecessarily\n",
    "raw_data = raw_data.drop(False, axis = 1)"
   ]
  },
  {
   "cell_type": "code",
   "execution_count": 70,
   "metadata": {
    "tags": []
   },
   "outputs": [
    {
     "data": {
      "text/html": [
       "<div>\n",
       "<style scoped>\n",
       "    .dataframe tbody tr th:only-of-type {\n",
       "        vertical-align: middle;\n",
       "    }\n",
       "\n",
       "    .dataframe tbody tr th {\n",
       "        vertical-align: top;\n",
       "    }\n",
       "\n",
       "    .dataframe thead th {\n",
       "        text-align: right;\n",
       "    }\n",
       "</style>\n",
       "<table border=\"1\" class=\"dataframe\">\n",
       "  <thead>\n",
       "    <tr style=\"text-align: right;\">\n",
       "      <th></th>\n",
       "      <th>unique_key</th>\n",
       "      <th>case_number</th>\n",
       "      <th>date</th>\n",
       "      <th>block</th>\n",
       "      <th>iucr</th>\n",
       "      <th>primary_type</th>\n",
       "      <th>description</th>\n",
       "      <th>location_description</th>\n",
       "      <th>arrest</th>\n",
       "      <th>domestic</th>\n",
       "      <th>...</th>\n",
       "      <th>ward</th>\n",
       "      <th>community_area</th>\n",
       "      <th>fbi_code</th>\n",
       "      <th>x_coordinate</th>\n",
       "      <th>y_coordinate</th>\n",
       "      <th>year</th>\n",
       "      <th>updated_on</th>\n",
       "      <th>latitude</th>\n",
       "      <th>longitude</th>\n",
       "      <th>location</th>\n",
       "    </tr>\n",
       "  </thead>\n",
       "  <tbody>\n",
       "    <tr>\n",
       "      <th>0</th>\n",
       "      <td>11814183</td>\n",
       "      <td>JC416371</td>\n",
       "      <td>2019-09-01 09:00:00+00:00</td>\n",
       "      <td>038XX S ELLIS AVE</td>\n",
       "      <td>0930</td>\n",
       "      <td>MOTOR VEHICLE THEFT</td>\n",
       "      <td>THEFT/RECOVERY: AUTOMOBILE</td>\n",
       "      <td>PARKING LOT/GARAGE(NON.RESID.)</td>\n",
       "      <td>False</td>\n",
       "      <td>False</td>\n",
       "      <td>...</td>\n",
       "      <td>4.0</td>\n",
       "      <td>36</td>\n",
       "      <td>07</td>\n",
       "      <td>1182584.0</td>\n",
       "      <td>1879629.0</td>\n",
       "      <td>2019</td>\n",
       "      <td>2019-09-08 16:07:45+00:00</td>\n",
       "      <td>41.824914</td>\n",
       "      <td>-87.605655</td>\n",
       "      <td>(41.824914418, -87.605655435)</td>\n",
       "    </tr>\n",
       "    <tr>\n",
       "      <th>1</th>\n",
       "      <td>11770356</td>\n",
       "      <td>JC363819</td>\n",
       "      <td>2019-07-25 09:52:00+00:00</td>\n",
       "      <td>049XX N MILWAUKEE AVE</td>\n",
       "      <td>1120</td>\n",
       "      <td>DECEPTIVE PRACTICE</td>\n",
       "      <td>FORGERY</td>\n",
       "      <td>STREET</td>\n",
       "      <td>True</td>\n",
       "      <td>False</td>\n",
       "      <td>...</td>\n",
       "      <td>45.0</td>\n",
       "      <td>11</td>\n",
       "      <td>10</td>\n",
       "      <td>1139437.0</td>\n",
       "      <td>1932199.0</td>\n",
       "      <td>2019</td>\n",
       "      <td>2019-10-14 16:04:15+00:00</td>\n",
       "      <td>41.970067</td>\n",
       "      <td>-87.762668</td>\n",
       "      <td>(41.970066618, -87.762668225)</td>\n",
       "    </tr>\n",
       "  </tbody>\n",
       "</table>\n",
       "<p>2 rows × 22 columns</p>\n",
       "</div>"
      ],
      "text/plain": [
       "   unique_key case_number                       date                  block  \\\n",
       "0    11814183    JC416371  2019-09-01 09:00:00+00:00      038XX S ELLIS AVE   \n",
       "1    11770356    JC363819  2019-07-25 09:52:00+00:00  049XX N MILWAUKEE AVE   \n",
       "\n",
       "   iucr         primary_type                 description  \\\n",
       "0  0930  MOTOR VEHICLE THEFT  THEFT/RECOVERY: AUTOMOBILE   \n",
       "1  1120   DECEPTIVE PRACTICE                     FORGERY   \n",
       "\n",
       "             location_description  arrest  domestic  ...  ward  \\\n",
       "0  PARKING LOT/GARAGE(NON.RESID.)   False     False  ...   4.0   \n",
       "1                          STREET    True     False  ...  45.0   \n",
       "\n",
       "   community_area  fbi_code  x_coordinate y_coordinate  year  \\\n",
       "0              36        07     1182584.0    1879629.0  2019   \n",
       "1              11        10     1139437.0    1932199.0  2019   \n",
       "\n",
       "                  updated_on   latitude  longitude  \\\n",
       "0  2019-09-08 16:07:45+00:00  41.824914 -87.605655   \n",
       "1  2019-10-14 16:04:15+00:00  41.970067 -87.762668   \n",
       "\n",
       "                        location  \n",
       "0  (41.824914418, -87.605655435)  \n",
       "1  (41.970066618, -87.762668225)  \n",
       "\n",
       "[2 rows x 22 columns]"
      ]
     },
     "execution_count": 70,
     "metadata": {},
     "output_type": "execute_result"
    }
   ],
   "source": [
    "raw_data.head(2)"
   ]
  },
  {
   "cell_type": "code",
   "execution_count": 71,
   "metadata": {
    "tags": []
   },
   "outputs": [
    {
     "name": "stdout",
     "output_type": "stream",
     "text": [
      "       unique_key case_number        date                  block  iucr  \\\n",
      "0        11814183    JC416371  2019-09-01      038XX S ELLIS AVE  0930   \n",
      "1        11770356    JC363819  2019-07-25  049XX N MILWAUKEE AVE  1120   \n",
      "2        11757015    JC347959  2019-07-14       105XX S AVENUE M  0498   \n",
      "3        11729739    JC314541  2019-06-18   079XX S WOODLAWN AVE  0330   \n",
      "4        11713163    JC294692  2019-06-06    094XX S CRANDON AVE  2021   \n",
      "...           ...         ...         ...                    ...   ...   \n",
      "29995     9454542    HX107182  2014-01-06       009XX E 103RD ST  0460   \n",
      "29996     9433647    HW577194  2013-12-19     051XX S PULASKI RD  0460   \n",
      "29997     9330090    HW473616  2013-09-30       008XX E 133RD PL  0460   \n",
      "29998     9205317    HW351101  2013-07-06    085XX S CREGIER AVE  0460   \n",
      "29999     9187581    HW332705  2013-06-24     040XX W FOSTER AVE  0460   \n",
      "\n",
      "              primary_type                                        description  \\\n",
      "0      MOTOR VEHICLE THEFT                         THEFT/RECOVERY: AUTOMOBILE   \n",
      "1       DECEPTIVE PRACTICE                                            FORGERY   \n",
      "2                  BATTERY  AGGRAVATED DOMESTIC BATTERY: HANDS/FIST/FEET S...   \n",
      "3                  ROBBERY                                         AGGRAVATED   \n",
      "4                NARCOTICS                                  POSS: BARBITUATES   \n",
      "...                    ...                                                ...   \n",
      "29995              BATTERY                                             SIMPLE   \n",
      "29996              BATTERY                                             SIMPLE   \n",
      "29997              BATTERY                                             SIMPLE   \n",
      "29998              BATTERY                                             SIMPLE   \n",
      "29999              BATTERY                                             SIMPLE   \n",
      "\n",
      "                 location_description  arrest  domestic  ...  fbi_code  \\\n",
      "0      PARKING LOT/GARAGE(NON.RESID.)   False     False  ...        07   \n",
      "1                              STREET    True     False  ...        10   \n",
      "2                           APARTMENT   False      True  ...       04B   \n",
      "3                               ALLEY   False     False  ...        03   \n",
      "4                              STREET    True     False  ...        18   \n",
      "...                               ...     ...       ...  ...       ...   \n",
      "29995    GOVERNMENT BUILDING/PROPERTY   False     False  ...       08B   \n",
      "29996                    CTA BUS STOP   False     False  ...       08B   \n",
      "29997        SCHOOL, PUBLIC, BUILDING   False     False  ...       08B   \n",
      "29998                          STREET   False     False  ...       08B   \n",
      "29999  PARKING LOT/GARAGE(NON.RESID.)   False     False  ...       08B   \n",
      "\n",
      "       x_coordinate  y_coordinate  year                 updated_on   latitude  \\\n",
      "0         1182584.0     1879629.0  2019  2019-09-08 16:07:45+00:00  41.824914   \n",
      "1         1139437.0     1932199.0  2019  2019-10-14 16:04:15+00:00  41.970067   \n",
      "2         1201513.0     1835666.0  2019  2019-07-21 16:11:41+00:00  41.703817   \n",
      "3         1185587.0     1852779.0  2019  2019-06-30 15:56:27+00:00  41.751166   \n",
      "4         1193150.0     1843016.0  2019  2019-06-30 15:56:27+00:00  41.724194   \n",
      "...             ...           ...   ...                        ...        ...   \n",
      "29995     1184261.0     1836868.0  2014  2018-02-10 15:50:01+00:00  41.707535   \n",
      "29996     1150570.0     1870231.0  2013  2018-02-10 15:50:01+00:00  41.799809   \n",
      "29997     1184246.0     1817115.0  2013  2018-02-10 15:50:01+00:00  41.653330   \n",
      "29998     1189671.0     1848891.0  2013  2018-02-10 15:50:01+00:00  41.740399   \n",
      "29999     1148424.0     1934247.0  2013  2018-02-10 15:50:01+00:00  41.975517   \n",
      "\n",
      "       longitude                       location           datetime_column  \\\n",
      "0     -87.605655  (41.824914418, -87.605655435) 2019-09-01 09:00:00+00:00   \n",
      "1     -87.762668  (41.970066618, -87.762668225) 2019-07-25 09:52:00+00:00   \n",
      "2     -87.537704  (41.703816562, -87.537703874) 2019-07-14 02:44:00+00:00   \n",
      "3     -87.595484  (41.751165501, -87.595483806) 2019-06-18 23:00:00+00:00   \n",
      "4     -87.568088  (41.724193641, -87.568087767) 2019-06-06 12:40:00+00:00   \n",
      "...          ...                            ...                       ...   \n",
      "29995 -87.600839  (41.707535018, -87.600839053) 2014-01-06 07:45:00+00:00   \n",
      "29996 -87.723351  (41.799808989, -87.723350952) 2013-12-19 15:40:00+00:00   \n",
      "29997 -87.601508    (41.653330429, -87.6015084) 2013-09-30 12:45:00+00:00   \n",
      "29998 -87.580643  (41.740399385, -87.580642831) 2013-07-06 20:35:00+00:00   \n",
      "29999 -87.729569   (41.97551745, -87.729569215) 2013-06-24 08:10:00+00:00   \n",
      "\n",
      "           time  \n",
      "0      09:00:00  \n",
      "1      09:52:00  \n",
      "2      02:44:00  \n",
      "3      23:00:00  \n",
      "4      12:40:00  \n",
      "...         ...  \n",
      "29995  07:45:00  \n",
      "29996  15:40:00  \n",
      "29997  12:45:00  \n",
      "29998  20:35:00  \n",
      "29999  08:10:00  \n",
      "\n",
      "[30000 rows x 24 columns]\n"
     ]
    }
   ],
   "source": [
    "# Convert the 'datetime_column' to pandas DateTime object\n",
    "raw_data['datetime_column'] = pd.to_datetime(raw_data['date'])\n",
    "\n",
    "# Extract the date and time components into separate columns\n",
    "raw_data['date'] = raw_data['datetime_column'].dt.date\n",
    "raw_data['time'] = raw_data['datetime_column'].dt.time\n",
    "\n",
    "# If you want to drop the original 'datetime_column', you can use:\n",
    "# df.drop('datetime_column', axis=1, inplace=True)\n",
    "\n",
    "# Print the updated DataFrame\n",
    "print(raw_data)\n"
   ]
  },
  {
   "cell_type": "code",
   "execution_count": 74,
   "metadata": {
    "tags": []
   },
   "outputs": [
    {
     "ename": "TypeError",
     "evalue": "'method' object is not subscriptable",
     "output_type": "error",
     "traceback": [
      "\u001b[1;31m---------------------------------------------------------------------------\u001b[0m",
      "\u001b[1;31mTypeError\u001b[0m                                 Traceback (most recent call last)",
      "Cell \u001b[1;32mIn[74], line 1\u001b[0m\n\u001b[1;32m----> 1\u001b[0m raw_data\u001b[38;5;241m.\u001b[39mdrop[\u001b[38;5;124m'\u001b[39m\u001b[38;5;124mdatetime_column\u001b[39m\u001b[38;5;124m'\u001b[39m]\n",
      "\u001b[1;31mTypeError\u001b[0m: 'method' object is not subscriptable"
     ]
    }
   ],
   "source": [
    "raw_data.drop['datetime_column']"
   ]
  },
  {
   "cell_type": "code",
   "execution_count": 84,
   "metadata": {
    "tags": []
   },
   "outputs": [
    {
     "name": "stdout",
     "output_type": "stream",
     "text": [
      "['unique_key', 'case_number', 'date', 'block', 'iucr', 'primary_type', 'description', 'location_description', 'arrest', 'domestic', 'beat', 'district', 'ward', 'community_area', 'fbi_code', 'x_coordinate', 'y_coordinate', 'year', 'updated_on', 'latitude', 'longitude', 'location', 'datetime_column', 'time']\n",
      "       unique_key case_number        date                  block  iucr  \\\n",
      "0        11814183    JC416371  2019-09-01      038XX S ELLIS AVE  0930   \n",
      "1        11770356    JC363819  2019-07-25  049XX N MILWAUKEE AVE  1120   \n",
      "2        11757015    JC347959  2019-07-14       105XX S AVENUE M  0498   \n",
      "3        11729739    JC314541  2019-06-18   079XX S WOODLAWN AVE  0330   \n",
      "4        11713163    JC294692  2019-06-06    094XX S CRANDON AVE  2021   \n",
      "...           ...         ...         ...                    ...   ...   \n",
      "29995     9454542    HX107182  2014-01-06       009XX E 103RD ST  0460   \n",
      "29996     9433647    HW577194  2013-12-19     051XX S PULASKI RD  0460   \n",
      "29997     9330090    HW473616  2013-09-30       008XX E 133RD PL  0460   \n",
      "29998     9205317    HW351101  2013-07-06    085XX S CREGIER AVE  0460   \n",
      "29999     9187581    HW332705  2013-06-24     040XX W FOSTER AVE  0460   \n",
      "\n",
      "              primary_type                                        description  \\\n",
      "0      MOTOR VEHICLE THEFT                         THEFT/RECOVERY: AUTOMOBILE   \n",
      "1       DECEPTIVE PRACTICE                                            FORGERY   \n",
      "2                  BATTERY  AGGRAVATED DOMESTIC BATTERY: HANDS/FIST/FEET S...   \n",
      "3                  ROBBERY                                         AGGRAVATED   \n",
      "4                NARCOTICS                                  POSS: BARBITUATES   \n",
      "...                    ...                                                ...   \n",
      "29995              BATTERY                                             SIMPLE   \n",
      "29996              BATTERY                                             SIMPLE   \n",
      "29997              BATTERY                                             SIMPLE   \n",
      "29998              BATTERY                                             SIMPLE   \n",
      "29999              BATTERY                                             SIMPLE   \n",
      "\n",
      "                 location_description  arrest  domestic  ...  community_area  \\\n",
      "0      PARKING LOT/GARAGE(NON.RESID.)   False     False  ...              36   \n",
      "1                              STREET    True     False  ...              11   \n",
      "2                           APARTMENT   False      True  ...              52   \n",
      "3                               ALLEY   False     False  ...              45   \n",
      "4                              STREET    True     False  ...              48   \n",
      "...                               ...     ...       ...  ...             ...   \n",
      "29995    GOVERNMENT BUILDING/PROPERTY   False     False  ...              50   \n",
      "29996                    CTA BUS STOP   False     False  ...              62   \n",
      "29997        SCHOOL, PUBLIC, BUILDING   False     False  ...              54   \n",
      "29998                          STREET   False     False  ...              45   \n",
      "29999  PARKING LOT/GARAGE(NON.RESID.)   False     False  ...              13   \n",
      "\n",
      "       fbi_code  x_coordinate  y_coordinate  year                 updated_on  \\\n",
      "0            07     1182584.0     1879629.0  2019  2019-09-08 16:07:45+00:00   \n",
      "1            10     1139437.0     1932199.0  2019  2019-10-14 16:04:15+00:00   \n",
      "2           04B     1201513.0     1835666.0  2019  2019-07-21 16:11:41+00:00   \n",
      "3            03     1185587.0     1852779.0  2019  2019-06-30 15:56:27+00:00   \n",
      "4            18     1193150.0     1843016.0  2019  2019-06-30 15:56:27+00:00   \n",
      "...         ...           ...           ...   ...                        ...   \n",
      "29995       08B     1184261.0     1836868.0  2014  2018-02-10 15:50:01+00:00   \n",
      "29996       08B     1150570.0     1870231.0  2013  2018-02-10 15:50:01+00:00   \n",
      "29997       08B     1184246.0     1817115.0  2013  2018-02-10 15:50:01+00:00   \n",
      "29998       08B     1189671.0     1848891.0  2013  2018-02-10 15:50:01+00:00   \n",
      "29999       08B     1148424.0     1934247.0  2013  2018-02-10 15:50:01+00:00   \n",
      "\n",
      "        latitude  longitude                       location      time  \n",
      "0      41.824914 -87.605655  (41.824914418, -87.605655435)  09:00:00  \n",
      "1      41.970067 -87.762668  (41.970066618, -87.762668225)  09:52:00  \n",
      "2      41.703817 -87.537704  (41.703816562, -87.537703874)  02:44:00  \n",
      "3      41.751166 -87.595484  (41.751165501, -87.595483806)  23:00:00  \n",
      "4      41.724194 -87.568088  (41.724193641, -87.568087767)  12:40:00  \n",
      "...          ...        ...                            ...       ...  \n",
      "29995  41.707535 -87.600839  (41.707535018, -87.600839053)  07:45:00  \n",
      "29996  41.799809 -87.723351  (41.799808989, -87.723350952)  15:40:00  \n",
      "29997  41.653330 -87.601508    (41.653330429, -87.6015084)  12:45:00  \n",
      "29998  41.740399 -87.580643  (41.740399385, -87.580642831)  20:35:00  \n",
      "29999  41.975517 -87.729569   (41.97551745, -87.729569215)  08:10:00  \n",
      "\n",
      "[30000 rows x 23 columns]\n"
     ]
    }
   ],
   "source": [
    "import pandas as pd\n",
    "\n",
    "# Assuming you have a DataFrame with a column named 'column_to_drop'\n",
    "# Replace 'your_dataset.csv' with the path to your dataset file, if applicable\n",
    "clean_dt = pd.DataFrame(raw_data)\n",
    "\n",
    "# List down all the columns of the DataFrame\n",
    "columns_list = clean_dt.columns.tolist()\n",
    "\n",
    "# Print the list of columns\n",
    "print(columns_list)\n",
    "# Drop the column named 'column_to_drop'\n",
    "clean_dt.drop('datetime_column', axis=1, inplace=True)\n",
    "\n",
    "# Print the updated DataFrame\n",
    "print(clean_dt)"
   ]
  },
  {
   "cell_type": "code",
   "execution_count": 86,
   "metadata": {
    "tags": []
   },
   "outputs": [],
   "source": [
    "clean_dt.to_csv('preprocessing_data.csv')"
   ]
  },
  {
   "cell_type": "code",
   "execution_count": null,
   "metadata": {},
   "outputs": [],
   "source": []
  }
 ],
 "metadata": {
  "kernelspec": {
   "display_name": "Python 3 (ipykernel)",
   "language": "python",
   "name": "python3"
  },
  "language_info": {
   "codemirror_mode": {
    "name": "ipython",
    "version": 3
   },
   "file_extension": ".py",
   "mimetype": "text/x-python",
   "name": "python",
   "nbconvert_exporter": "python",
   "pygments_lexer": "ipython3",
   "version": "3.11.3"
  }
 },
 "nbformat": 4,
 "nbformat_minor": 4
}
